{
 "cells": [
  {
   "cell_type": "code",
   "execution_count": null,
   "metadata": {},
   "outputs": [],
   "source": [
    "import cv2\n",
    "from ipywidgets import *\n",
    "import matplotlib.pyplot as plt\n",
    "from matplotlib import cm\n",
    "import numpy as np\n",
    "import scipy.stats as stats\n",
    "from skimage.transform import hough_line, hough_line_peaks\n",
    "from skimage.feature import canny\n",
    "from skimage import data, io, img_as_ubyte, transform\n",
    "from skimage.color import rgb2gray, rgba2rgb"
   ]
  },
  {
   "cell_type": "code",
   "execution_count": null,
   "metadata": {},
   "outputs": [],
   "source": [
    "def bin_img(url):\n",
    "    img = io.imread(url)\n",
    "    if img.shape[2] == 4:\n",
    "        img = rgba2rgb(img)\n",
    "    img = 1-rgb2gray(img)\n",
    "    return img > 0\n",
    "\n",
    "def plot_moments(moment=\"m00\", centroid=False):  \n",
    "    plt.figure(figsize=(10,10))\n",
    "    for i, im in enumerate(figs):\n",
    "        img = img_as_ubyte(im)\n",
    "        contours, _ = cv2.findContours(img,cv2.RETR_TREE,cv2.CHAIN_APPROX_NONE)\n",
    "        moments = cv2.moments(contours[0])\n",
    "        if centroid:\n",
    "            cX = int(moments[\"m10\"] / moments[\"m00\"])\n",
    "            cY = int(moments[\"m01\"] / moments[\"m00\"])\n",
    "            cv2.circle(img, (cX, cY), 10, (0, 0, 0), -1)\n",
    "        plt.subplot(2,2,i+1);\n",
    "        plt.title(moment+ \": \"+str(moments[moment]))\n",
    "        plt.imshow(img, cmap='gray')\n",
    "\n",
    "def heatmap(data, labels, ax, colormap=\"Wistia\", c=\"b\", title=\"\"):   \n",
    "    im = ax.imshow(data, cmap=colormap)\n",
    "    n = len(labels)\n",
    "    ax.set_xticks(np.arange(n))\n",
    "    ax.set_yticks(np.arange(n))\n",
    "    ax.set_xticklabels(labels)\n",
    "    ax.set_yticklabels(labels)\n",
    "\n",
    "    for i in range(n):\n",
    "        for j in range(n):\n",
    "            text = ax.text(j, i, data[i, j], ha=\"center\", va=\"center\", color=c, size='x-large')\n",
    "        \n",
    "    if title != \"\":\n",
    "        ax.set_title(title)\n",
    "\n",
    "def hu_dist():\n",
    "    contours = [contour for contour, h in [cv2.findContours(img_as_ubyte(img),cv2.RETR_TREE,cv2.CHAIN_APPROX_NONE) for img in figs]]\n",
    "    n = len(contours)\n",
    "    dists = np.zeros((n,n))\n",
    "\n",
    "    for i in range(n):\n",
    "        for j in range(n):\n",
    "            dists[i][j] = round(cv2.matchShapes(contours[i][0],contours[j][0],cv2.CONTOURS_MATCH_I2,0),3)\n",
    "\n",
    "    fig, ax = plt.subplots(figsize=(6,6))\n",
    "    heatmap(dists, [\"star\", \"star_t\", \"star_sr\", \"heart\"], ax)\n",
    "            \n",
    "def confusion_matrix(thresh = 105):\n",
    "    mu1 = 100\n",
    "    mu2= 120\n",
    "    sigma = 7\n",
    "    xs = [np.linspace(m-3.5*sigma, m+3.5*sigma, 100) for m in [mu1, mu2]]\n",
    "    fig, axs= plt.subplots(1, 2, figsize=(15,5))\n",
    "\n",
    "    for x, m in zip(xs,[mu1, mu2]):\n",
    "        y = stats.norm.pdf(x, m, sigma)\n",
    "        axs[0].plot(x, y)\n",
    "        axs[0].fill_between(x, y, alpha=0.5)\n",
    "    axs[0].axvline(x=thresh, c='k')\n",
    "    \n",
    "    positive = np.random.normal(mu2, sigma, 50)\n",
    "    negative = np.random.normal(mu1, sigma, 50)\n",
    "    \n",
    "    mat = np.zeros((2,2), dtype=np.long)\n",
    "    mat[0,0] = sum(positive >= thresh)\n",
    "    mat[0,1] = sum(negative >= thresh)\n",
    "    mat[1,0] = sum(positive < thresh)\n",
    "    mat[1,1] = sum(negative < thresh)\n",
    "    accuracy = (mat[0,0] + mat[1,1])/np.sum(mat)\n",
    "    \n",
    "    heatmap(mat, ['positive', 'negative'], axs[1], colormap=\"YlGn\", c=\"r\", title=\"accuracy: \"+str(accuracy))\n",
    "\n",
    "\n",
    "img = bin_img(\"https://upload.wikimedia.org/wikipedia/commons/thumb/7/77/Full_star.svg/480px-Full_star.svg.png\") \n",
    "img2 = bin_img(\"https://upload.wikimedia.org/wikipedia/commons/thumb/4/46/Love_Heart_symbol_inglow.svg/521px-Love_Heart_symbol_inglow.svg.png\") \n",
    "\n",
    "padding = 200\n",
    "star = np.pad(img, ((padding, padding), (padding, padding)), 'constant', constant_values=(0, 0))\n",
    "star2 = np.pad(img, ((0, padding*2), (0, padding*2)), 'constant', constant_values=(0, 0))\n",
    "star3 = np.pad(transform.rescale(transform.rotate(star,45), 0.5), ((0, padding*2), (0, padding*2)), 'constant', constant_values=(0, 0))\n",
    "heart = np.pad(img2, ((padding, padding), (padding, padding)), 'constant', constant_values=(0, 0))\n",
    "\n",
    "figs = [star, star2, star3, heart]"
   ]
  },
  {
   "cell_type": "markdown",
   "metadata": {},
   "source": [
    "### Transformacja Hougha"
   ]
  },
  {
   "cell_type": "code",
   "execution_count": null,
   "metadata": {},
   "outputs": [],
   "source": [
    "#https://scikit-image.org/docs/dev/auto_examples/edges/plot_line_hough_transform.html\n",
    "\n",
    "# Constructing test image\n",
    "image = np.zeros((200, 200))\n",
    "idx = np.arange(25, 175)\n",
    "image[idx[::-1], idx] = 255\n",
    "image[idx, idx] = 255\n",
    "\n",
    "image = io.imread(\"./projekt/images/sddf.jpg\", as_gray=True)\n",
    "# image = image > 0.9\n",
    "\n",
    "# Classic straight-line Hough transform\n",
    "# Set a precision of 0.5 degree.\n",
    "tested_angles = np.linspace(-np.pi / 2, np.pi / 2, 360)\n",
    "h, theta, d = hough_line(image, theta=tested_angles)\n",
    "\n",
    "# Generating figure 1\n",
    "fig, axes = plt.subplots(1, 3, figsize=(15, 6))\n",
    "ax = axes.ravel()\n",
    "\n",
    "ax[0].imshow(image, cmap=cm.gray)\n",
    "ax[0].set_title('Input image')\n",
    "ax[0].set_axis_off()\n",
    "\n",
    "ax[1].imshow(np.log(1 + h),\n",
    "             extent=[np.rad2deg(theta[-1]), np.rad2deg(theta[0]), d[-1], d[0]],\n",
    "             cmap=cm.gray, aspect=1/1.5)\n",
    "ax[1].set_title('Hough transform')\n",
    "ax[1].set_xlabel('Angles (degrees)')\n",
    "ax[1].set_ylabel('Distance (pixels)')\n",
    "ax[1].axis('image')\n",
    "\n",
    "ax[2].imshow(image, cmap=cm.gray)\n",
    "origin = np.array((0, image.shape[1]))\n",
    "for _, angle, dist in zip(*hough_line_peaks(h, theta, d)):\n",
    "    y0, y1 = (dist - origin * np.cos(angle)) / np.sin(angle)\n",
    "    ax[2].plot(origin, (y0, y1), '-r')\n",
    "ax[2].set_xlim(origin)\n",
    "ax[2].set_ylim((image.shape[0], 0))\n",
    "ax[2].set_axis_off()\n",
    "ax[2].set_title('Detected lines')\n",
    "\n",
    "plt.tight_layout()\n",
    "plt.show()"
   ]
  },
  {
   "cell_type": "markdown",
   "metadata": {},
   "source": [
    "### Momenty"
   ]
  },
  {
   "cell_type": "code",
   "execution_count": null,
   "metadata": {},
   "outputs": [],
   "source": [
    "plt.figure(figsize=(10,10))\n",
    "for i, s in enumerate(figs):\n",
    "    plt.subplot(2,2,i+1);\n",
    "    plt.imshow(s, cmap='gray')    "
   ]
  },
  {
   "cell_type": "markdown",
   "metadata": {},
   "source": [
    "#### Moment zwykły"
   ]
  },
  {
   "cell_type": "markdown",
   "metadata": {},
   "source": [
    "$$M_{ij} = \\sum_{x}\\sum_{y}x^iy^jI(x,y)$$\n",
    "\n",
    "$${\\textrm{Centroid: }\\displaystyle \\{{\\bar {x}},\\ {\\bar {y}}\\}=\\left\\{{\\frac {M_{10}}{M_{00}}},{\\frac {M_{01}}{M_{00}}}\\right\\}}$$"
   ]
  },
  {
   "cell_type": "code",
   "execution_count": null,
   "metadata": {},
   "outputs": [],
   "source": [
    "plot_moments(\"m11\", centroid=True)"
   ]
  },
  {
   "cell_type": "markdown",
   "metadata": {},
   "source": [
    "#### Moment centralny"
   ]
  },
  {
   "cell_type": "markdown",
   "metadata": {},
   "source": [
    "$$\\mu_{ij} = \\sum_{x}\\sum_{y}(x-\\bar{x})^i(y-\\bar{y})^jI(x,y)$$"
   ]
  },
  {
   "cell_type": "code",
   "execution_count": null,
   "metadata": {},
   "outputs": [],
   "source": [
    "plot_moments(\"mu11\")"
   ]
  },
  {
   "cell_type": "markdown",
   "metadata": {},
   "source": [
    "#### Moment centralny znormalizowany"
   ]
  },
  {
   "cell_type": "markdown",
   "metadata": {},
   "source": [
    "$$\\eta_{ij} = \\frac{\\mu_{ij}}{\\mu_{00}^{\\left(1+\\frac{i+j}{2}\\right)}}\\textrm{,}$$\n",
    "gdzie $i + j \\geq 2$"
   ]
  },
  {
   "cell_type": "code",
   "execution_count": null,
   "metadata": {},
   "outputs": [],
   "source": [
    "plot_moments(\"nu11\")"
   ]
  },
  {
   "cell_type": "markdown",
   "metadata": {},
   "source": [
    "#### Momenty Hu"
   ]
  },
  {
   "cell_type": "markdown",
   "metadata": {},
   "source": [
    "$I_{1}=\\eta _{{20}}+\\eta _{{02}}$\n",
    "\n",
    "$I_{2}=(\\eta _{{20}}-\\eta _{{02}})^{2}+4\\eta _{{11}}^{2}$\n",
    "\n",
    "$I_{3}=(\\eta _{{30}}-3\\eta _{{12}})^{2}+(3\\eta _{{21}}-\\eta _{{03}})^{2}$\n",
    "\n",
    "$I_{4}=(\\eta _{{30}}+\\eta _{{12}})^{2}+(\\eta _{{21}}+\\eta _{{03}})^{2}$\n",
    "\n",
    "$I_{5}=(\\eta _{{30}}-3\\eta _{{12}})(\\eta _{{30}}+\\eta _{{12}})[(\\eta _{{30}}+\\eta _{{12}})^{2}-3(\\eta _{{21}}+\\eta _{{03}})^{2}]+(3\\eta _{{21}}-\\eta _{{03}})(\\eta _{{21}}+\\eta _{{03}})[3(\\eta _{{30}}+\\eta _{{12}})^{2}-(\\eta _{{21}}+\\eta _{{03}})^{2}]$\n",
    "\n",
    "$I_{6}=(\\eta _{{20}}-\\eta _{{02}})[(\\eta _{{30}}+\\eta _{{12}})^{2}-(\\eta _{{21}}+\\eta _{{03}})^{2}]+4\\eta _{{11}}(\\eta _{{30}}+\\eta _{{12}})(\\eta _{{21}}+\\eta _{{03}})$\n",
    "\n",
    "$I_{7}=(3\\eta _{{21}}-\\eta _{{03}})(\\eta _{{30}}+\\eta _{{12}})[(\\eta _{{30}}+\\eta _{{12}})^{2}-3(\\eta _{{21}}+\\eta _{{03}})^{2}]-(\\eta _{{30}}-3\\eta _{{12}})(\\eta _{{21}}+\\eta _{{03}})[3(\\eta _{{30}}+\\eta _{{12}})^{2}-(\\eta _{{21}}+\\eta _{{03}})^{2}]$\n"
   ]
  },
  {
   "cell_type": "code",
   "execution_count": null,
   "metadata": {},
   "outputs": [],
   "source": [
    "hu_dist()"
   ]
  },
  {
   "cell_type": "markdown",
   "metadata": {},
   "source": [
    "### kNN"
   ]
  },
  {
   "cell_type": "markdown",
   "metadata": {},
   "source": [
    "![knn](https://docs.opencv.org/master/knn_simple.png)"
   ]
  },
  {
   "cell_type": "markdown",
   "metadata": {},
   "source": [
    "[https://docs.opencv.org/master/d5/d26/tutorial_py_knn_understanding.html](https://docs.opencv.org/master/d5/d26/tutorial_py_knn_understanding.html)"
   ]
  },
  {
   "cell_type": "markdown",
   "metadata": {},
   "source": [
    "### Tradycyjny algorytm"
   ]
  },
  {
   "cell_type": "markdown",
   "metadata": {},
   "source": [
    "![pipeline](https://www.learnopencv.com/wp-content/uploads/2016/11/image-classification-pipeline-1024x372.jpg)"
   ]
  },
  {
   "cell_type": "markdown",
   "metadata": {},
   "source": [
    "[https://www.learnopencv.com/image-recognition-and-object-detection-part1](https://www.learnopencv.com/image-recognition-and-object-detection-part1/)"
   ]
  },
  {
   "cell_type": "markdown",
   "metadata": {},
   "source": [
    "### Sieci neuronowe"
   ]
  },
  {
   "cell_type": "markdown",
   "metadata": {},
   "source": [
    "![nn](https://cs231n.github.io/assets/nn1/neural_net.jpeg)"
   ]
  },
  {
   "cell_type": "markdown",
   "metadata": {},
   "source": [
    "[https://cs231n.github.io/neural-networks-1/](https://cs231n.github.io/neural-networks-1/)"
   ]
  },
  {
   "cell_type": "markdown",
   "metadata": {},
   "source": [
    "![convnet](https://cs231n.github.io/assets/cnn/convnet.jpeg)"
   ]
  },
  {
   "cell_type": "markdown",
   "metadata": {},
   "source": [
    "[https://cs231n.github.io/convolutional-networks](https://cs231n.github.io/convolutional-networks/)"
   ]
  },
  {
   "cell_type": "markdown",
   "metadata": {},
   "source": [
    "### Macierz pomyłek"
   ]
  },
  {
   "cell_type": "markdown",
   "metadata": {},
   "source": [
    "<table>\n",
    "<tbody><tr>\n",
    "<td>\n",
    "<table style=\"border:none; float:left; margin-top:0;\">\n",
    "<tbody><tr>\n",
    "<th style=\"background:white; border:none;\" colspan=\"2\" rowspan=\"2\">\n",
    "</th>\n",
    "<th colspan=\"2\" style=\"background:none;\">Klasa rzeczywista\n",
    "</th></tr>\n",
    "<tr>\n",
    "<th>pozytywna\n",
    "</th>\n",
    "<th>negatywna\n",
    "</th></tr>\n",
    "<tr>\n",
    "<th rowspan=\"2\" style=\"height:6em;\">Klasa<br />przewidziana\n",
    "</th>\n",
    "<th>pozytywna\n",
    "</th>\n",
    "<td>prawdziwie<br />pozytywna (TP)\n",
    "</td>\n",
    "<td>fałszywie<br />pozytywna (FP)\n",
    "</td></tr>\n",
    "<tr>\n",
    "<th>negatywna\n",
    "</th>\n",
    "<td>fałszywie<br />negatywna (FN)\n",
    "</td>\n",
    "<td>prawdziwie<br />negatywna (TN)\n",
    "</td></tr></tbody></table>\n",
    "</td></tr></tbody></table>"
   ]
  },
  {
   "cell_type": "code",
   "execution_count": null,
   "metadata": {},
   "outputs": [],
   "source": [
    "interact(confusion_matrix, thresh=(80,140,1))"
   ]
  },
  {
   "cell_type": "code",
   "execution_count": null,
   "metadata": {},
   "outputs": [],
   "source": [
    "img = cv2.imread('./projekt/images/sddf.jpg')\n",
    "gray = cv2.cvtColor(img,cv2.COLOR_BGR2GRAY)\n",
    "\n",
    "kernel_size = 5\n",
    "blur_gray = cv2.GaussianBlur(gray,(kernel_size, kernel_size),0)\n",
    "low_threshold = 20\n",
    "high_threshold = 150\n",
    "edges = cv2.Canny(blur_gray, low_threshold, high_threshold)\n",
    "\n",
    "rho = 1  # distance resolution in pixels of the Hough grid\n",
    "theta = np.pi / 180  # angular resolution in radians of the Hough grid\n",
    "threshold = 15  # minimum number of votes (intersections in Hough grid cell)\n",
    "min_line_length = 50  # minimum number of pixels making up a line\n",
    "max_line_gap = 20  # maximum gap in pixels between connectable line segments\n",
    "line_image = np.copy(img) * 0  # creating a blank to draw lines on\n",
    "\n",
    "# Run Hough on edge detected image\n",
    "# Output \"lines\" is an array containing endpoints of detected line segments\n",
    "lines = cv2.HoughLinesP(edges, rho, theta, threshold, np.array([]), min_line_length, max_line_gap)\n",
    "\n",
    "for line in lines:\n",
    "    for x1,y1,x2,y2 in line:\n",
    "        cv2.line(line_image,(x1,y1),(x2,y2),(255,0,0),5)\n",
    "    \n",
    "    # Draw the lines on the  image\n",
    "lines_edges = cv2.addWeighted(img, 0.8, line_image, 1, 0)\n",
    "\n",
    "io.imshow(lines_edges)"
   ]
  },
  {
   "cell_type": "code",
   "execution_count": null,
   "metadata": {},
   "outputs": [],
   "source": [
    "def find_line(photo_square, angle):\n",
    "    size = photo_square.shape[0]\n",
    "    tangens = round(math.tan(math.radians(angle)), 2)\n",
    "    max_val = 0\n",
    "    for k in range(size):\n",
    "        suma = 0\n",
    "        for y in range(size):\n",
    "            for x in range(size):\n",
    "                if x != k:\n",
    "                    if tangens == round((y - k) / (x - k), 2) and photo_square[y][x] == 0:\n",
    "                        suma += 1\n",
    "        if suma > max_val:\n",
    "            max_val = suma\n",
    "    return max_val\n",
    "\n"
   ]
  },
  {
   "cell_type": "code",
   "execution_count": 3,
   "metadata": {},
   "outputs": [
    {
     "name": "stdout",
     "output_type": "stream",
     "text": [
      "Gamestate:\n",
      "|-|-|-\n",
      "|-|-|-\n",
      "|-|-|-\n"
     ]
    },
    {
     "data": {
      "text/plain": [
       "<matplotlib.image.AxesImage at 0x15e1c568>"
      ]
     },
     "execution_count": 3,
     "metadata": {},
     "output_type": "execute_result"
    },
    {
     "data": {
      "image/png": "[encoded data removed]",
      "text/plain": [
       "<Figure size 432x288 with 1 Axes>"
      ]
     },
     "metadata": {
      "needs_background": "light"
     },
     "output_type": "display_data"
    }
   ],
   "source": [
    "import numpy as np\n",
    "import cv2\n",
    "from skimage import io\n",
    "\n",
    "#create a 2d array to hold the gamestate\n",
    "gamestate = [[\"-\",\"-\",\"-\"],[\"-\",\"-\",\"-\"],[\"-\",\"-\",\"-\"]]\n",
    "\n",
    "#kernel used for noise removal\n",
    "kernel =  np.ones((3, 3),np.uint8)\n",
    "# Load a color image \n",
    "img = cv2.imread('./images/5.jpg')\n",
    "# get the image width and height\n",
    "img_width = img.shape[0]\n",
    "img_height = img.shape[1]\n",
    "\n",
    "# # Set minimum and max HSV values to display\n",
    "# hMin = 0\n",
    "# sMin = 0\n",
    "# vMin = 30\n",
    "\n",
    "# hMax = 179\n",
    "# sMax = 255\n",
    "# vMax = 255\n",
    "\n",
    "# lower = np.array([hMin, sMin, vMin])\n",
    "# upper = np.array([hMax, sMax, vMax])\n",
    "\n",
    "# # Create HSV Image and threshold into a range.\n",
    "# hsv = cv2.cvtColor(img, cv2.COLOR_BGR2HSV)\n",
    "# mask = cv2.inRange(hsv, lower, upper)\n",
    "# output = cv2.bitwise_and(image,image, mask= mask)\n",
    "\n",
    "# img = cv2.cvtColor(output, cv2.COLOR_BGR2GRAY)\n",
    "# img = cv2.dilate(img, kernel, iterations=1)\n",
    "# # img = cv2.erode(img, kernel, iterations=2)\n",
    "# # img = cv2.Canny(img, 40, 120)\n",
    "# img[img>35] = 255\n",
    "# # io.imshow(image_canny)\n",
    "# io.imshow(img)\n",
    "\n",
    "# turn into grayscale\n",
    "img_g =  cv2.cvtColor(img, cv2.COLOR_BGR2GRAY)\n",
    "# turn into thresholded binary\n",
    "ret,thresh1 = cv2.threshold(img_g,0,255,cv2.THRESH_BINARY)\n",
    "#remove noise from binary\n",
    "thresh1 = cv2.morphologyEx(thresh1, cv2.MORPH_OPEN, kernel)\n",
    "\n",
    "# img_g = cv2.cvtColor(img, cv2.COLOR_BGR2GRAY)\n",
    "\n",
    "#find and draw contours. RETR_EXTERNAL retrieves only the extreme outer contours\n",
    "contours, hierarchy = cv2.findContours(thresh1, cv2.RETR_EXTERNAL, cv2.CHAIN_APPROX_SIMPLE)\n",
    "cv2.drawContours(img, contours, -1, (0,255,0), 15)\n",
    "\n",
    "# io.imshow(img)\n",
    "\n",
    "tileCount = 0\n",
    "for cnt in contours:\n",
    "        # ignore small contours that are not tiles\n",
    "        if cv2.contourArea(cnt) > 200000: \n",
    "                tileCount = tileCount+1\n",
    "                # use boundingrect to get coordinates of tile\n",
    "                x,y,w,h = cv2.boundingRect(cnt)\n",
    "                # create new image from binary, for further analysis. Trim off the edge that has a line\n",
    "                tile = thresh1[x+40:x+w-80,y+40:y+h-80]\n",
    "                # create new image from main image, so we can draw the contours easily\n",
    "                imgTile = img[x+40:x+w-80,y+40:y+h-80]\n",
    "\n",
    "                #determine the array indexes of the tile\n",
    "                tileX = round((x/img_width)*3)\n",
    "                tileY = round((y/img_height)*3)     \n",
    "\n",
    "                # find contours in the tile image. RETR_TREE retrieves all of the contours and reconstructs a full hierarchy of nested contours.\n",
    "                c, hierarchy = cv2.findContours(tile, cv2.RETR_TREE , cv2.CHAIN_APPROX_SIMPLE)\n",
    "                for ct in c:\n",
    "                        # to prevent the tile finding itself as contour\n",
    "                        if cv2.contourArea(ct) < 180000:\n",
    "                                cv2.drawContours(imgTile, [ct], -1, (255,0,0), 15)\n",
    "                                #calculate the solitity\n",
    "                                area = cv2.contourArea(ct)\n",
    "                                hull = cv2.convexHull(ct)\n",
    "                                hull_area = cv2.contourArea(hull)\n",
    "                                solidity = float(area)/hull_area\n",
    "\n",
    "                                # fill the gamestate with the right sign\n",
    "                                if(solidity > 0.5):\n",
    "                                        gamestate[tileX][tileY] = \"O\"\n",
    "                                else: \n",
    "                                        gamestate[tileX][tileY] = \"X\"\n",
    "                # put a number in the tile\n",
    "                cv2.putText(img, str(tileCount), (x+200,y+300), cv2.FONT_HERSHEY_SIMPLEX, 10, (0,0,255), 20)\n",
    "\n",
    "#print the gamestate\n",
    "print(\"Gamestate:\")\n",
    "for line in gamestate:\n",
    "        linetxt = \"\"\n",
    "        for cel in line:\n",
    "                linetxt = linetxt + \"|\" + cel\n",
    "        print(linetxt)\n",
    "\n",
    "# resize final image\n",
    "res = cv2.resize(img,None,fx=0.2, fy=0.2, interpolation = cv2.INTER_CUBIC)\n",
    "\n",
    "# display image and release resources when key is pressed\n",
    "io.imshow(res)"
   ]
  },
  {
   "cell_type": "code",
   "execution_count": 3,
   "metadata": {},
   "outputs": [
    {
     "name": "stdout",
     "output_type": "stream",
     "text": [
      "(hMin = 0 , sMin = 0, vMin = 0), (hMax = 179 , sMax = 255, vMax = 255)\n",
      "(hMin = 0 , sMin = 0, vMin = 3), (hMax = 179 , sMax = 255, vMax = 255)\n",
      "(hMin = 0 , sMin = 0, vMin = 23), (hMax = 179 , sMax = 255, vMax = 255)\n",
      "(hMin = 0 , sMin = 0, vMin = 55), (hMax = 179 , sMax = 255, vMax = 255)\n",
      "(hMin = 0 , sMin = 0, vMin = 73), (hMax = 179 , sMax = 255, vMax = 255)\n",
      "(hMin = 0 , sMin = 0, vMin = 74), (hMax = 179 , sMax = 255, vMax = 255)\n",
      "(hMin = 0 , sMin = 0, vMin = 78), (hMax = 179 , sMax = 255, vMax = 255)\n",
      "(hMin = 0 , sMin = 0, vMin = 83), (hMax = 179 , sMax = 255, vMax = 255)\n",
      "(hMin = 0 , sMin = 0, vMin = 92), (hMax = 179 , sMax = 255, vMax = 255)\n",
      "(hMin = 0 , sMin = 0, vMin = 98), (hMax = 179 , sMax = 255, vMax = 255)\n",
      "(hMin = 0 , sMin = 0, vMin = 102), (hMax = 179 , sMax = 255, vMax = 255)\n",
      "(hMin = 0 , sMin = 0, vMin = 106), (hMax = 179 , sMax = 255, vMax = 255)\n",
      "(hMin = 0 , sMin = 0, vMin = 111), (hMax = 179 , sMax = 255, vMax = 255)\n",
      "(hMin = 0 , sMin = 0, vMin = 133), (hMax = 179 , sMax = 255, vMax = 255)\n",
      "(hMin = 0 , sMin = 0, vMin = 155), (hMax = 179 , sMax = 255, vMax = 255)\n",
      "(hMin = 0 , sMin = 0, vMin = 163), (hMax = 179 , sMax = 255, vMax = 255)\n",
      "(hMin = 0 , sMin = 0, vMin = 171), (hMax = 179 , sMax = 255, vMax = 255)\n",
      "(hMin = 0 , sMin = 0, vMin = 185), (hMax = 179 , sMax = 255, vMax = 255)\n",
      "(hMin = 0 , sMin = 0, vMin = 194), (hMax = 179 , sMax = 255, vMax = 255)\n",
      "(hMin = 0 , sMin = 0, vMin = 174), (hMax = 179 , sMax = 255, vMax = 255)\n",
      "(hMin = 0 , sMin = 0, vMin = 129), (hMax = 179 , sMax = 255, vMax = 255)\n",
      "(hMin = 0 , sMin = 0, vMin = 108), (hMax = 179 , sMax = 255, vMax = 255)\n",
      "(hMin = 0 , sMin = 0, vMin = 93), (hMax = 179 , sMax = 255, vMax = 255)\n",
      "(hMin = 0 , sMin = 0, vMin = 75), (hMax = 179 , sMax = 255, vMax = 255)\n",
      "(hMin = 0 , sMin = 0, vMin = 51), (hMax = 179 , sMax = 255, vMax = 255)\n",
      "(hMin = 0 , sMin = 0, vMin = 38), (hMax = 179 , sMax = 255, vMax = 255)\n",
      "(hMin = 0 , sMin = 0, vMin = 30), (hMax = 179 , sMax = 255, vMax = 255)\n",
      "(hMin = 0 , sMin = 0, vMin = 26), (hMax = 179 , sMax = 255, vMax = 255)\n",
      "(hMin = 0 , sMin = 0, vMin = 20), (hMax = 179 , sMax = 255, vMax = 255)\n",
      "(hMin = 0 , sMin = 0, vMin = 12), (hMax = 179 , sMax = 255, vMax = 255)\n",
      "(hMin = 0 , sMin = 0, vMin = 7), (hMax = 179 , sMax = 255, vMax = 255)\n",
      "(hMin = 0 , sMin = 0, vMin = 4), (hMax = 179 , sMax = 255, vMax = 255)\n",
      "(hMin = 0 , sMin = 0, vMin = 1), (hMax = 179 , sMax = 255, vMax = 255)\n",
      "(hMin = 0 , sMin = 0, vMin = 0), (hMax = 179 , sMax = 255, vMax = 255)\n",
      "(hMin = 0 , sMin = 0, vMin = 11), (hMax = 179 , sMax = 255, vMax = 255)\n",
      "(hMin = 0 , sMin = 0, vMin = 16), (hMax = 179 , sMax = 255, vMax = 255)\n",
      "(hMin = 0 , sMin = 0, vMin = 18), (hMax = 179 , sMax = 255, vMax = 255)\n",
      "(hMin = 0 , sMin = 0, vMin = 33), (hMax = 179 , sMax = 255, vMax = 255)\n",
      "(hMin = 0 , sMin = 0, vMin = 43), (hMax = 179 , sMax = 255, vMax = 255)\n",
      "(hMin = 0 , sMin = 0, vMin = 56), (hMax = 179 , sMax = 255, vMax = 255)\n",
      "(hMin = 0 , sMin = 0, vMin = 69), (hMax = 179 , sMax = 255, vMax = 255)\n",
      "(hMin = 0 , sMin = 0, vMin = 72), (hMax = 179 , sMax = 255, vMax = 255)\n",
      "(hMin = 0 , sMin = 0, vMin = 60), (hMax = 179 , sMax = 255, vMax = 255)\n",
      "(hMin = 0 , sMin = 0, vMin = 21), (hMax = 179 , sMax = 255, vMax = 255)\n",
      "(hMin = 0 , sMin = 0, vMin = 0), (hMax = 179 , sMax = 255, vMax = 255)\n",
      "(hMin = 0 , sMin = 8, vMin = 0), (hMax = 179 , sMax = 255, vMax = 255)\n",
      "(hMin = 0 , sMin = 47, vMin = 0), (hMax = 179 , sMax = 255, vMax = 255)\n",
      "(hMin = 0 , sMin = 68, vMin = 0), (hMax = 179 , sMax = 255, vMax = 255)\n",
      "(hMin = 0 , sMin = 74, vMin = 0), (hMax = 179 , sMax = 255, vMax = 255)\n",
      "(hMin = 0 , sMin = 79, vMin = 0), (hMax = 179 , sMax = 255, vMax = 255)\n",
      "(hMin = 0 , sMin = 88, vMin = 0), (hMax = 179 , sMax = 255, vMax = 255)\n",
      "(hMin = 0 , sMin = 89, vMin = 0), (hMax = 179 , sMax = 255, vMax = 255)\n",
      "(hMin = 0 , sMin = 82, vMin = 0), (hMax = 179 , sMax = 255, vMax = 255)\n",
      "(hMin = 0 , sMin = 56, vMin = 0), (hMax = 179 , sMax = 255, vMax = 255)\n",
      "(hMin = 0 , sMin = 27, vMin = 0), (hMax = 179 , sMax = 255, vMax = 255)\n",
      "(hMin = 0 , sMin = 22, vMin = 0), (hMax = 179 , sMax = 255, vMax = 255)\n",
      "(hMin = 0 , sMin = 21, vMin = 0), (hMax = 179 , sMax = 255, vMax = 255)\n",
      "(hMin = 0 , sMin = 18, vMin = 0), (hMax = 179 , sMax = 255, vMax = 255)\n",
      "(hMin = 0 , sMin = 15, vMin = 0), (hMax = 179 , sMax = 255, vMax = 255)\n",
      "(hMin = 0 , sMin = 11, vMin = 0), (hMax = 179 , sMax = 255, vMax = 255)\n",
      "(hMin = 0 , sMin = 9, vMin = 0), (hMax = 179 , sMax = 255, vMax = 255)\n",
      "(hMin = 0 , sMin = 8, vMin = 0), (hMax = 179 , sMax = 255, vMax = 255)\n",
      "(hMin = 0 , sMin = 5, vMin = 0), (hMax = 179 , sMax = 255, vMax = 255)\n",
      "(hMin = 0 , sMin = 0, vMin = 0), (hMax = 179 , sMax = 255, vMax = 255)\n",
      "(hMin = 0 , sMin = 0, vMin = 0), (hMax = 144 , sMax = 255, vMax = 255)\n",
      "(hMin = 0 , sMin = 0, vMin = 0), (hMax = 109 , sMax = 255, vMax = 255)\n",
      "(hMin = 0 , sMin = 0, vMin = 0), (hMax = 74 , sMax = 255, vMax = 255)\n",
      "(hMin = 0 , sMin = 0, vMin = 0), (hMax = 74 , sMax = 204, vMax = 255)\n",
      "(hMin = 0 , sMin = 0, vMin = 0), (hMax = 74 , sMax = 153, vMax = 255)\n",
      "(hMin = 0 , sMin = 0, vMin = 0), (hMax = 74 , sMax = 102, vMax = 255)\n",
      "(hMin = 0 , sMin = 0, vMin = 0), (hMax = 74 , sMax = 102, vMax = 204)\n",
      "(hMin = 0 , sMin = 0, vMin = 51), (hMax = 74 , sMax = 102, vMax = 204)\n",
      "(hMin = 0 , sMin = 0, vMin = 0), (hMax = 74 , sMax = 102, vMax = 204)\n",
      "(hMin = 0 , sMin = 0, vMin = 0), (hMax = 74 , sMax = 51, vMax = 204)\n",
      "(hMin = 0 , sMin = 0, vMin = 0), (hMax = 74 , sMax = 49, vMax = 204)\n",
      "(hMin = 0 , sMin = 0, vMin = 0), (hMax = 74 , sMax = 45, vMax = 204)\n",
      "(hMin = 0 , sMin = 0, vMin = 0), (hMax = 74 , sMax = 39, vMax = 204)\n",
      "(hMin = 0 , sMin = 0, vMin = 0), (hMax = 74 , sMax = 35, vMax = 204)\n",
      "(hMin = 0 , sMin = 0, vMin = 0), (hMax = 74 , sMax = 31, vMax = 204)\n",
      "(hMin = 0 , sMin = 0, vMin = 0), (hMax = 74 , sMax = 24, vMax = 204)\n",
      "(hMin = 0 , sMin = 0, vMin = 0), (hMax = 74 , sMax = 16, vMax = 204)\n",
      "(hMin = 0 , sMin = 0, vMin = 0), (hMax = 74 , sMax = 9, vMax = 204)\n",
      "(hMin = 0 , sMin = 0, vMin = 0), (hMax = 74 , sMax = 24, vMax = 204)\n",
      "(hMin = 0 , sMin = 0, vMin = 0), (hMax = 74 , sMax = 85, vMax = 204)\n",
      "(hMin = 0 , sMin = 0, vMin = 0), (hMax = 74 , sMax = 138, vMax = 204)\n",
      "(hMin = 0 , sMin = 0, vMin = 0), (hMax = 74 , sMax = 154, vMax = 204)\n",
      "(hMin = 0 , sMin = 0, vMin = 0), (hMax = 74 , sMax = 165, vMax = 204)\n",
      "(hMin = 0 , sMin = 0, vMin = 0), (hMax = 74 , sMax = 178, vMax = 204)\n",
      "(hMin = 0 , sMin = 0, vMin = 0), (hMax = 74 , sMax = 190, vMax = 204)\n",
      "(hMin = 0 , sMin = 0, vMin = 0), (hMax = 74 , sMax = 192, vMax = 204)\n",
      "(hMin = 0 , sMin = 0, vMin = 0), (hMax = 74 , sMax = 198, vMax = 204)\n",
      "(hMin = 0 , sMin = 0, vMin = 0), (hMax = 74 , sMax = 208, vMax = 204)\n",
      "(hMin = 0 , sMin = 0, vMin = 0), (hMax = 74 , sMax = 215, vMax = 204)\n",
      "(hMin = 0 , sMin = 0, vMin = 0), (hMax = 74 , sMax = 221, vMax = 204)\n",
      "(hMin = 0 , sMin = 0, vMin = 0), (hMax = 74 , sMax = 227, vMax = 204)\n",
      "(hMin = 0 , sMin = 0, vMin = 0), (hMax = 74 , sMax = 232, vMax = 204)\n",
      "(hMin = 0 , sMin = 0, vMin = 0), (hMax = 74 , sMax = 235, vMax = 204)\n",
      "(hMin = 0 , sMin = 0, vMin = 0), (hMax = 74 , sMax = 237, vMax = 204)\n",
      "(hMin = 0 , sMin = 0, vMin = 0), (hMax = 74 , sMax = 238, vMax = 204)\n",
      "(hMin = 0 , sMin = 0, vMin = 0), (hMax = 74 , sMax = 239, vMax = 204)\n",
      "(hMin = 0 , sMin = 0, vMin = 0), (hMax = 74 , sMax = 240, vMax = 204)\n",
      "(hMin = 0 , sMin = 0, vMin = 0), (hMax = 74 , sMax = 241, vMax = 204)\n",
      "(hMin = 0 , sMin = 0, vMin = 0), (hMax = 74 , sMax = 243, vMax = 204)\n",
      "(hMin = 0 , sMin = 0, vMin = 0), (hMax = 74 , sMax = 244, vMax = 204)\n",
      "(hMin = 0 , sMin = 0, vMin = 0), (hMax = 74 , sMax = 245, vMax = 204)\n",
      "(hMin = 0 , sMin = 0, vMin = 0), (hMax = 74 , sMax = 246, vMax = 204)\n",
      "(hMin = 0 , sMin = 0, vMin = 0), (hMax = 74 , sMax = 247, vMax = 204)\n",
      "(hMin = 0 , sMin = 0, vMin = 0), (hMax = 74 , sMax = 248, vMax = 204)\n",
      "(hMin = 0 , sMin = 0, vMin = 0), (hMax = 74 , sMax = 249, vMax = 204)\n",
      "(hMin = 0 , sMin = 0, vMin = 0), (hMax = 74 , sMax = 251, vMax = 204)\n",
      "(hMin = 0 , sMin = 0, vMin = 0), (hMax = 74 , sMax = 252, vMax = 204)\n",
      "(hMin = 0 , sMin = 0, vMin = 0), (hMax = 74 , sMax = 253, vMax = 204)\n",
      "(hMin = 0 , sMin = 0, vMin = 0), (hMax = 74 , sMax = 254, vMax = 204)\n",
      "(hMin = 0 , sMin = 0, vMin = 0), (hMax = 74 , sMax = 255, vMax = 204)\n",
      "(hMin = 0 , sMin = 0, vMin = 0), (hMax = 74 , sMax = 255, vMax = 207)\n",
      "(hMin = 0 , sMin = 0, vMin = 0), (hMax = 74 , sMax = 255, vMax = 216)\n",
      "(hMin = 0 , sMin = 0, vMin = 0), (hMax = 74 , sMax = 255, vMax = 221)\n",
      "(hMin = 0 , sMin = 0, vMin = 0), (hMax = 74 , sMax = 255, vMax = 223)\n"
     ]
    },
    {
     "name": "stdout",
     "output_type": "stream",
     "text": [
      "(hMin = 0 , sMin = 0, vMin = 0), (hMax = 74 , sMax = 255, vMax = 228)\n",
      "(hMin = 0 , sMin = 0, vMin = 0), (hMax = 74 , sMax = 255, vMax = 230)\n",
      "(hMin = 0 , sMin = 0, vMin = 0), (hMax = 74 , sMax = 255, vMax = 232)\n",
      "(hMin = 0 , sMin = 0, vMin = 0), (hMax = 74 , sMax = 255, vMax = 233)\n",
      "(hMin = 0 , sMin = 0, vMin = 0), (hMax = 74 , sMax = 255, vMax = 234)\n",
      "(hMin = 0 , sMin = 0, vMin = 0), (hMax = 74 , sMax = 255, vMax = 235)\n",
      "(hMin = 0 , sMin = 0, vMin = 0), (hMax = 74 , sMax = 255, vMax = 237)\n",
      "(hMin = 0 , sMin = 0, vMin = 0), (hMax = 74 , sMax = 255, vMax = 240)\n",
      "(hMin = 0 , sMin = 0, vMin = 0), (hMax = 74 , sMax = 255, vMax = 241)\n",
      "(hMin = 0 , sMin = 0, vMin = 0), (hMax = 74 , sMax = 255, vMax = 242)\n",
      "(hMin = 0 , sMin = 0, vMin = 0), (hMax = 74 , sMax = 255, vMax = 243)\n",
      "(hMin = 0 , sMin = 0, vMin = 0), (hMax = 74 , sMax = 255, vMax = 244)\n",
      "(hMin = 0 , sMin = 0, vMin = 0), (hMax = 74 , sMax = 255, vMax = 245)\n",
      "(hMin = 0 , sMin = 0, vMin = 0), (hMax = 74 , sMax = 255, vMax = 246)\n",
      "(hMin = 0 , sMin = 0, vMin = 0), (hMax = 74 , sMax = 255, vMax = 247)\n",
      "(hMin = 0 , sMin = 0, vMin = 0), (hMax = 74 , sMax = 255, vMax = 248)\n",
      "(hMin = 0 , sMin = 0, vMin = 0), (hMax = 74 , sMax = 255, vMax = 249)\n",
      "(hMin = 0 , sMin = 0, vMin = 0), (hMax = 74 , sMax = 255, vMax = 250)\n",
      "(hMin = 0 , sMin = 0, vMin = 0), (hMax = 74 , sMax = 255, vMax = 251)\n",
      "(hMin = 0 , sMin = 0, vMin = 0), (hMax = 74 , sMax = 255, vMax = 252)\n",
      "(hMin = 0 , sMin = 0, vMin = 0), (hMax = 74 , sMax = 255, vMax = 253)\n"
     ]
    },
    {
     "ename": "error",
     "evalue": "OpenCV(4.5.4-dev) D:\\a\\opencv-python\\opencv-python\\opencv\\modules\\highgui\\src\\window_w32.cpp:2581: error: (-27:Null pointer) NULL window: 'image' in function 'cvGetTrackbarPos'\n",
     "output_type": "error",
     "traceback": [
      "\u001b[1;31m---------------------------------------------------------------------------\u001b[0m",
      "\u001b[1;31merror\u001b[0m                                     Traceback (most recent call last)",
      "\u001b[1;32m<ipython-input-3-e0560109cc16>\u001b[0m in \u001b[0;36m<module>\u001b[1;34m\u001b[0m\n\u001b[0;32m     35\u001b[0m \u001b[1;33m\u001b[0m\u001b[0m\n\u001b[0;32m     36\u001b[0m     \u001b[1;31m# get current positions of all trackbars\u001b[0m\u001b[1;33m\u001b[0m\u001b[1;33m\u001b[0m\u001b[1;33m\u001b[0m\u001b[0m\n\u001b[1;32m---> 37\u001b[1;33m     \u001b[0mhMin\u001b[0m \u001b[1;33m=\u001b[0m \u001b[0mcv2\u001b[0m\u001b[1;33m.\u001b[0m\u001b[0mgetTrackbarPos\u001b[0m\u001b[1;33m(\u001b[0m\u001b[1;34m'HMin'\u001b[0m\u001b[1;33m,\u001b[0m\u001b[1;34m'image'\u001b[0m\u001b[1;33m)\u001b[0m\u001b[1;33m\u001b[0m\u001b[1;33m\u001b[0m\u001b[0m\n\u001b[0m\u001b[0;32m     38\u001b[0m     \u001b[0msMin\u001b[0m \u001b[1;33m=\u001b[0m \u001b[0mcv2\u001b[0m\u001b[1;33m.\u001b[0m\u001b[0mgetTrackbarPos\u001b[0m\u001b[1;33m(\u001b[0m\u001b[1;34m'SMin'\u001b[0m\u001b[1;33m,\u001b[0m\u001b[1;34m'image'\u001b[0m\u001b[1;33m)\u001b[0m\u001b[1;33m\u001b[0m\u001b[1;33m\u001b[0m\u001b[0m\n\u001b[0;32m     39\u001b[0m     \u001b[0mvMin\u001b[0m \u001b[1;33m=\u001b[0m \u001b[0mcv2\u001b[0m\u001b[1;33m.\u001b[0m\u001b[0mgetTrackbarPos\u001b[0m\u001b[1;33m(\u001b[0m\u001b[1;34m'VMin'\u001b[0m\u001b[1;33m,\u001b[0m\u001b[1;34m'image'\u001b[0m\u001b[1;33m)\u001b[0m\u001b[1;33m\u001b[0m\u001b[1;33m\u001b[0m\u001b[0m\n",
      "\u001b[1;31merror\u001b[0m: OpenCV(4.5.4-dev) D:\\a\\opencv-python\\opencv-python\\opencv\\modules\\highgui\\src\\window_w32.cpp:2581: error: (-27:Null pointer) NULL window: 'image' in function 'cvGetTrackbarPos'\n"
     ]
    }
   ],
   "source": [
    "import cv2\n",
    "import sys\n",
    "import numpy as np\n",
    "\n",
    "def nothing(x):\n",
    "    pass\n",
    "\n",
    "# Load in image\n",
    "image = cv2.imread('./projekt/images/4.jpg')\n",
    "\n",
    "# Create a window\n",
    "cv2.namedWindow('image')\n",
    "\n",
    "# create trackbars for color change\n",
    "cv2.createTrackbar('HMin','image',0,179,nothing) # Hue is from 0-179 for Opencv\n",
    "cv2.createTrackbar('SMin','image',0,255,nothing)\n",
    "cv2.createTrackbar('VMin','image',0,255,nothing)\n",
    "cv2.createTrackbar('HMax','image',0,179,nothing)\n",
    "cv2.createTrackbar('SMax','image',0,255,nothing)\n",
    "cv2.createTrackbar('VMax','image',0,255,nothing)\n",
    "\n",
    "# Set default value for MAX HSV trackbars.\n",
    "cv2.setTrackbarPos('HMax', 'image', 179)\n",
    "cv2.setTrackbarPos('SMax', 'image', 255)\n",
    "cv2.setTrackbarPos('VMax', 'image', 255)\n",
    "\n",
    "# Initialize to check if HSV min/max value changes\n",
    "hMin = sMin = vMin = hMax = sMax = vMax = 0\n",
    "phMin = psMin = pvMin = phMax = psMax = pvMax = 0\n",
    "\n",
    "output = image\n",
    "wait_time = 33\n",
    "\n",
    "while(1):\n",
    "\n",
    "    # get current positions of all trackbars\n",
    "    hMin = cv2.getTrackbarPos('HMin','image')\n",
    "    sMin = cv2.getTrackbarPos('SMin','image')\n",
    "    vMin = cv2.getTrackbarPos('VMin','image')\n",
    "\n",
    "    hMax = cv2.getTrackbarPos('HMax','image')\n",
    "    sMax = cv2.getTrackbarPos('SMax','image')\n",
    "    vMax = cv2.getTrackbarPos('VMax','image')\n",
    "\n",
    "    # Set minimum and max HSV values to display\n",
    "    lower = np.array([hMin, sMin, vMin])\n",
    "    upper = np.array([hMax, sMax, vMax])\n",
    "\n",
    "    # Create HSV Image and threshold into a range.\n",
    "    hsv = cv2.cvtColor(image, cv2.COLOR_BGR2HSV)\n",
    "    mask = cv2.inRange(hsv, lower, upper)\n",
    "    output = cv2.bitwise_and(image,image, mask= mask)\n",
    "\n",
    "    # Print if there is a change in HSV value\n",
    "    if( (phMin != hMin) | (psMin != sMin) | (pvMin != vMin) | (phMax != hMax) | (psMax != sMax) | (pvMax != vMax) ):\n",
    "        print(\"(hMin = %d , sMin = %d, vMin = %d), (hMax = %d , sMax = %d, vMax = %d)\" % (hMin , sMin , vMin, hMax, sMax , vMax))\n",
    "        phMin = hMin\n",
    "        psMin = sMin\n",
    "        pvMin = vMin\n",
    "        phMax = hMax\n",
    "        psMax = sMax\n",
    "        pvMax = vMax\n",
    "\n",
    "    # Display output image\n",
    "    cv2.imshow('image',output)\n",
    "\n",
    "    # Wait longer to prevent freeze for videos.\n",
    "    if cv2.waitKey(wait_time) & 0xFF == ord('q'):\n",
    "        break\n",
    "\n",
    "cv2.destroyAllWindows()"
   ]
  },
  {
   "cell_type": "code",
   "execution_count": 8,
   "metadata": {},
   "outputs": [
    {
     "data": {
      "text/plain": [
       "<matplotlib.image.AxesImage at 0x17657c0>"
      ]
     },
     "execution_count": 8,
     "metadata": {},
     "output_type": "execute_result"
    },
    {
     "data": {
      "image/png": "[encoded data removed]",
      "text/plain": [
       "<Figure size 432x288 with 1 Axes>"
      ]
     },
     "metadata": {
      "needs_background": "light"
     },
     "output_type": "display_data"
    }
   ],
   "source": [
    "import numpy as np\n",
    "import cv2\n",
    "from skimage import io\n",
    "\n",
    "#create a 2d array to hold the gamestate\n",
    "gamestate = [[\"-\",\"-\",\"-\"],[\"-\",\"-\",\"-\"],[\"-\",\"-\",\"-\"]]\n",
    "#kernel used for noise removal\n",
    "kernel =  np.ones((7,7),np.uint8)\n",
    "# Load a color image \n",
    "img = cv2.imread('./images/5.jpg')\n",
    "# get the image width and height\n",
    "img_width = img.shape[0]\n",
    "img_height = img.shape[1]\n",
    "\n",
    "# turn into grayscale\n",
    "img_g =  cv2.cvtColor(img, cv2.COLOR_BGR2GRAY)\n",
    "# turn into thresholded binary\n",
    "ret,thresh1 = cv2.threshold(img_g,127,255,cv2.THRESH_BINARY)\n",
    "#remove noise from binary\n",
    "thresh1 = cv2.morphologyEx(thresh1, cv2.MORPH_OPEN, kernel)\n",
    "\n",
    "#find and draw contours. RETR_EXTERNAL retrieves only the extreme outer contours\n",
    "contours, hierarchy = cv2.findContours(thresh1, cv2.RETR_EXTERNAL, cv2.CHAIN_APPROX_SIMPLE)\n",
    "cv2.drawContours(img, contours, -1, (0,255,0), 15)\n",
    "\n",
    "\n",
    "io.imshow(img)\n",
    "# tileCount = 0\n",
    "# for cnt in contours:\n",
    "#         # ignore small contours that are not tiles\n",
    "#         if cv2.contourArea(cnt) > 200000: \n",
    "#                 tileCount = tileCount+1\n",
    "#                 # use boundingrect to get coordinates of tile\n",
    "#                 x,y,w,h = cv2.boundingRect(cnt)\n",
    "#                 # create new image from binary, for further analysis. Trim off the edge that has a line\n",
    "#                 tile = thresh1[x+40:x+w-80,y+40:y+h-80]\n",
    "#                 # create new image from main image, so we can draw the contours easily\n",
    "#                 imgTile = img[x+40:x+w-80,y+40:y+h-80]\n",
    "\n",
    "#                 #determine the array indexes of the tile\n",
    "#                 tileX = round((x/img_width)*3)\n",
    "#                 tileY = round((y/img_height)*3)     \n",
    "\n",
    "#                 # find contours in the tile image. RETR_TREE retrieves all of the contours and reconstructs a full hierarchy of nested contours.\n",
    "#                 c, hierarchy = cv2.findContours(tile, cv2.RETR_TREE , cv2.CHAIN_APPROX_SIMPLE)\n",
    "#                 for ct in c:\n",
    "#                         # to prevent the tile finding itself as contour\n",
    "#                         if cv2.contourArea(ct) < 210000:\n",
    "#                                 cv2.drawContours(imgTile, [ct], -1, (255,0,0), 15)\n",
    "#                                 #calculate the solitity\n",
    "#                                 area = cv2.contourArea(ct)\n",
    "#                                 hull = cv2.convexHull(ct)\n",
    "#                                 hull_area = cv2.contourArea(hull)\n",
    "#                                 solidity = float(area)/hull_area\n",
    "                                \n",
    "#                                 print(tileCount, solidity)\n",
    "\n",
    "#                                 # fill the gamestate with the right sign\n",
    "#                                 if(solidity > 0.5):\n",
    "#                                         gamestate[tileX][tileY] = \"O\"\n",
    "#                                         print('circle')\n",
    "#                                 else: \n",
    "#                                         gamestate[tileX][tileY] = \"X\"\n",
    "#                                         print('xxx')\n",
    "#                 # put a number in the tile\n",
    "#                 cv2.putText(img, str(tileCount), (x+200,y+300), cv2.FONT_HERSHEY_SIMPLEX, 10, (0,0,255), 20)\n",
    "\n",
    "# #print the gamestate\n",
    "# print(\"Gamestate:\")\n",
    "# for line in gamestate:\n",
    "#         linetxt = \"\"\n",
    "#         for cel in line:\n",
    "#                 linetxt = linetxt + \"|\" + cel\n",
    "#         print(linetxt)\n",
    "\n",
    "# # resize final image\n",
    "# res = cv2.resize(img,None,fx=0.2, fy=0.2, interpolation = cv2.INTER_CUBIC)\n",
    "\n",
    "# io.imshow(res)"
   ]
  }
 ],
 "metadata": {
  "kernelspec": {
   "display_name": "Python 3",
   "language": "python",
   "name": "python3"
  },
  "language_info": {
   "codemirror_mode": {
    "name": "ipython",
    "version": 3
   },
   "file_extension": ".py",
   "mimetype": "text/x-python",
   "name": "python",
   "nbconvert_exporter": "python",
   "pygments_lexer": "ipython3",
   "version": "3.8.2"
  },
  "latex_envs": {
   "LaTeX_envs_menu_present": true,
   "autoclose": false,
   "autocomplete": true,
   "bibliofile": "biblio.bib",
   "cite_by": "apalike",
   "current_citInitial": 1,
   "eqLabelWithNumbers": true,
   "eqNumInitial": 1,
   "hotkeys": {
    "equation": "Ctrl-E",
    "itemize": "Ctrl-I"
   },
   "labels_anchors": false,
   "latex_user_defs": false,
   "report_style_numbering": false,
   "user_envs_cfg": false
  }
 },
 "nbformat": 4,
 "nbformat_minor": 4
}
